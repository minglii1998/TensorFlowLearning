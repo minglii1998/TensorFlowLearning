{
 "cells": [
  {
   "cell_type": "code",
   "execution_count": 1,
   "metadata": {},
   "outputs": [],
   "source": [
    "# 通过TensorFlow实现卷积层\n",
    "import tensorflow as tf"
   ]
  },
  {
   "cell_type": "code",
   "execution_count": 2,
   "metadata": {},
   "outputs": [
    {
     "name": "stdout",
     "output_type": "stream",
     "text": [
      "WARNING:tensorflow:From C:\\Users\\95854\\Anaconda3\\lib\\site-packages\\tensorflow\\python\\framework\\op_def_library.py:263: colocate_with (from tensorflow.python.framework.ops) is deprecated and will be removed in a future version.\n",
      "Instructions for updating:\n",
      "Colocations handled automatically by placer.\n"
     ]
    }
   ],
   "source": [
    "# 前两个参数为过滤器尺寸，第三个为当前层深度，第四个为过滤层深度\n",
    "\n",
    "filter_weight = tf.get_variable(\n",
    "'weights',[5,5,3,16],\n",
    "initializer=tf.truncated_normal_initializer(stddev=0.1))\n"
   ]
  },
  {
   "cell_type": "code",
   "execution_count": 4,
   "metadata": {},
   "outputs": [],
   "source": [
    "biases = tf.get_variable(\n",
    "'biases',[16],initializer=tf.constant_initializer(0.1))"
   ]
  },
  {
   "cell_type": "code",
   "execution_count": 8,
   "metadata": {},
   "outputs": [
    {
     "data": {
      "text/plain": [
       "\"conv = tf.nn.conv2d(input,filter_weight,strides=[1,1,1,1],padding='SAME')\""
      ]
     },
     "execution_count": 8,
     "metadata": {},
     "output_type": "execute_result"
    }
   ],
   "source": [
    "# 第三个参数是不同维度上的步长，其中第一维和第四维一定要求是1\n",
    "\n",
    "'''conv = tf.nn.conv2d(input,filter_weight,strides=[1,1,1,1],padding='SAME')'''"
   ]
  },
  {
   "cell_type": "code",
   "execution_count": 11,
   "metadata": {},
   "outputs": [
    {
     "data": {
      "text/plain": [
       "'bais = tf.nn.bias_add(conv,biases)\\nactived_conv = tf.nn.relu(bias)'"
      ]
     },
     "execution_count": 11,
     "metadata": {},
     "output_type": "execute_result"
    }
   ],
   "source": [
    "# 给每个节点加上偏置项\n",
    "\n",
    "'''bais = tf.nn.bias_add(conv,biases)\n",
    "actived_conv = tf.nn.relu(bias)'''"
   ]
  },
  {
   "cell_type": "code",
   "execution_count": 12,
   "metadata": {},
   "outputs": [
    {
     "data": {
      "text/plain": [
       "\"pool = tf.nn.max_pool(actived_conv,ksize=[1,3,3,1],strides=[1,2,2,1],padding='SAME')\""
      ]
     },
     "execution_count": 12,
     "metadata": {},
     "output_type": "execute_result"
    }
   ],
   "source": [
    "'''pool = tf.nn.max_pool(actived_conv,ksize=[1,3,3,1],strides=[1,2,2,1],padding='SAME')'''"
   ]
  },
  {
   "cell_type": "code",
   "execution_count": 14,
   "metadata": {},
   "outputs": [
    {
     "data": {
      "text/plain": [
       "'net = slim.conv2d(input,32,[3,3])'"
      ]
     },
     "execution_count": 14,
     "metadata": {},
     "output_type": "execute_result"
    }
   ],
   "source": [
    "# 使用TensorFlow-Slim简洁的实现一个卷积层\n",
    "# 原始api\n",
    "'''with tf.variable_scope(scope_name):\n",
    "    weights = tf.get_variable(\"weight\", ..)\n",
    "    biases = tf.get_variable(\"bias\", ..)\n",
    "    conv = tf.nn.conv2d(..)\n",
    "relu = tf.nn.relu(tf.nn.bias_add(conv,biases))'''\n",
    "\n",
    "# Slim\n",
    "# \n",
    "'''net = slim.conv2d(input,32,[3,3])'''"
   ]
  },
  {
   "cell_type": "code",
   "execution_count": null,
   "metadata": {},
   "outputs": [],
   "source": []
  }
 ],
 "metadata": {
  "kernelspec": {
   "display_name": "Python 3",
   "language": "python",
   "name": "python3"
  },
  "language_info": {
   "codemirror_mode": {
    "name": "ipython",
    "version": 3
   },
   "file_extension": ".py",
   "mimetype": "text/x-python",
   "name": "python",
   "nbconvert_exporter": "python",
   "pygments_lexer": "ipython3",
   "version": "3.7.3"
  }
 },
 "nbformat": 4,
 "nbformat_minor": 2
}
