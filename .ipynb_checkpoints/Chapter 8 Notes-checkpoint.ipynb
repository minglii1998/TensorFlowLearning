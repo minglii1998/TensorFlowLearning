{
 "cells": [
  {
   "cell_type": "code",
   "execution_count": 1,
   "metadata": {},
   "outputs": [],
   "source": [
    "import numpy as np\n",
    "import tensorflow as tf"
   ]
  },
  {
   "cell_type": "code",
   "execution_count": 4,
   "metadata": {},
   "outputs": [
    {
     "name": "stdout",
     "output_type": "stream",
     "text": [
      "Before activation: [0.6 0.5]\n",
      "state: [0.53704957 0.46211716]\n",
      "output: [1.56128388]\n",
      "Before activation: [1.2923401  1.39225678]\n",
      "state: [0.85973818 0.88366641]\n",
      "output: [2.72707101]\n"
     ]
    }
   ],
   "source": [
    "# 实现简单的RNN\n",
    "\n",
    "X = [1,2]\n",
    "state = [0.0,0.0]\n",
    "w_cell_state = np.asarray([[0.1,0.2],[0.3,0.4]])\n",
    "w_cell_input = np.asarray([0.5,0.6])\n",
    "b_cell = np.asarray([0.1,-0.1])\n",
    "\n",
    "w_output = np.asarray([[1.0],[2.0]])\n",
    "b_output = 0.1\n",
    "\n",
    "for i in range(len(X)):\n",
    "    before_activation = np.dot(state,w_cell_state) + X[i] * w_cell_input + b_cell\n",
    "    state = np.tanh(before_activation)\n",
    "    final_output = np.dot(state,w_output) + b_output\n",
    "    \n",
    "    print(\"Before activation:\",before_activation)\n",
    "    print(\"state:\",state)\n",
    "    print(\"output:\",final_output)"
   ]
  },
  {
   "cell_type": "code",
   "execution_count": 5,
   "metadata": {},
   "outputs": [
    {
     "data": {
      "text/plain": [
       "'lstm = rnn_cell.BasicLSTMCell(lstm_hidden_size)\\nstate = lstm.zero_state(batch_size,tf.float32)\\nloss = 0.0\\n\\nfor i in range(num_steps):\\n    if i >0: tf.get_variable_scope().reuse_variablesariables()\\n    lstm_output, state = lstm(current_input,state)\\n    final_output = fully_connected(lstm_output)\\n    loss += calc_loss(final_output,expected_output)'"
      ]
     },
     "execution_count": 5,
     "metadata": {},
     "output_type": "execute_result"
    }
   ],
   "source": [
    "# LSTM\n",
    "\n",
    "'''lstm = rnn_cell.BasicLSTMCell(lstm_hidden_size)\n",
    "state = lstm.zero_state(batch_size,tf.float32)\n",
    "loss = 0.0\n",
    "\n",
    "for i in range(num_steps):\n",
    "    if i >0: tf.get_variable_scope().reuse_variablesariables()\n",
    "    lstm_output, state = lstm(current_input,state)\n",
    "    final_output = fully_connected(lstm_output)\n",
    "    loss += calc_loss(final_output,expected_output)'''"
   ]
  },
  {
   "cell_type": "code",
   "execution_count": null,
   "metadata": {},
   "outputs": [],
   "source": []
  }
 ],
 "metadata": {
  "kernelspec": {
   "display_name": "Python 3",
   "language": "python",
   "name": "python3"
  },
  "language_info": {
   "codemirror_mode": {
    "name": "ipython",
    "version": 3
   },
   "file_extension": ".py",
   "mimetype": "text/x-python",
   "name": "python",
   "nbconvert_exporter": "python",
   "pygments_lexer": "ipython3",
   "version": "3.7.3"
  }
 },
 "nbformat": 4,
 "nbformat_minor": 2
}
