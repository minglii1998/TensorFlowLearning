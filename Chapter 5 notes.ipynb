{
 "cells": [
  {
   "cell_type": "code",
   "execution_count": null,
   "metadata": {},
   "outputs": [],
   "source": [
    "import numpy as np\n",
    "import tensorflow as tf\n",
    "old_v = tf.logging.get_verbosity()\n",
    "tf.logging.set_verbosity(tf.logging.ERROR)\n",
    "\n",
    "# 原无上面部分\n",
    "\n",
    "from tensorflow.examples.tutorials.mnist import input_data\n",
    "mnist = read_data_sets(\"../pytorch_data/\",one_hot = True)\n",
    "print(\"Training data size: \",mnist.train.num_examples)\n",
    "print(\"Validating data size: \",mnist.validation.num_examples)\n",
    "print(\"Testing data size: \",mnist.test.num_examples)\n",
    "print(\"Example training data: \",mnist.train.images[0])\n",
    "print(\"Example training data label: \",mnist.train.labels[0])"
   ]
  },
  {
   "cell_type": "code",
   "execution_count": null,
   "metadata": {},
   "outputs": [],
   "source": []
  }
 ],
 "metadata": {
  "kernelspec": {
   "display_name": "Python 3",
   "language": "python",
   "name": "python3"
  },
  "language_info": {
   "codemirror_mode": {
    "name": "ipython",
    "version": 3
   },
   "file_extension": ".py",
   "mimetype": "text/x-python",
   "name": "python",
   "nbconvert_exporter": "python",
   "pygments_lexer": "ipython3",
   "version": "3.7.3"
  }
 },
 "nbformat": 4,
 "nbformat_minor": 2
}
